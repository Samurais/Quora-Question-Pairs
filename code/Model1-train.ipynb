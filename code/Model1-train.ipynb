{
 "cells": [
  {
   "cell_type": "code",
   "execution_count": 1,
   "metadata": {
    "collapsed": false
   },
   "outputs": [
    {
     "name": "stderr",
     "output_type": "stream",
     "text": [
      "Using TensorFlow backend.\n"
     ]
    },
    {
     "name": "stdout",
     "output_type": "stream",
     "text": [
      "Imports done.\n"
     ]
    }
   ],
   "source": [
    "import numpy as np\n",
    "import tensorflow as tf\n",
    "import pandas as pd\n",
    "import pickle\n",
    "\n",
    "from keras.models import Sequential\n",
    "from keras.layers import Dense, Dropout, Activation\n",
    "from keras.optimizers import SGD\n",
    "from keras.callbacks import TensorBoard, ModelCheckpoint\n",
    "\n",
    "print('Imports done.')\n"
   ]
  },
  {
   "cell_type": "code",
   "execution_count": 2,
   "metadata": {
    "collapsed": false
   },
   "outputs": [
    {
     "name": "stdout",
     "output_type": "stream",
     "text": [
      "Reading csv...\n",
      "Done...\n"
     ]
    }
   ],
   "source": [
    "print('Reading csv...')\n",
    "data = pd.read_csv('../input/train_cleaned.csv')\n",
    "data = data.dropna()\n",
    "print('Done...')"
   ]
  },
  {
   "cell_type": "code",
   "execution_count": 3,
   "metadata": {
    "collapsed": false
   },
   "outputs": [
    {
     "name": "stdout",
     "output_type": "stream",
     "text": [
      "Loading pickles...\n",
      "Done.\n"
     ]
    }
   ],
   "source": [
    "print('Loading pickles...')\n",
    "train_question_1 = pickle.load(open('train_question_1.pkl', 'rb'))\n",
    "train_question_2 = pickle.load(open('train_question_2.pkl', 'rb'))\n",
    "train_labels = pickle.load(open('train_labels.pkl', 'rb'))\n",
    "map_index_vec = pickle.load(open('map_index_vec.pkl', 'rb'))\n",
    "\n",
    "print('Done.')"
   ]
  },
  {
   "cell_type": "code",
   "execution_count": 4,
   "metadata": {
    "collapsed": true
   },
   "outputs": [],
   "source": [
    "dim = 50\n",
    "N = len(train_question_1)\n",
    "batch_size = 128\n",
    "epochs = 100\n",
    "log_dir = './logs'\n",
    "weights_dir = './weights_1/weights.hdf5'"
   ]
  },
  {
   "cell_type": "code",
   "execution_count": 5,
   "metadata": {
    "collapsed": false
   },
   "outputs": [
    {
     "data": {
      "text/plain": [
       "404285"
      ]
     },
     "execution_count": 5,
     "metadata": {},
     "output_type": "execute_result"
    }
   ],
   "source": [
    "len(range(1,N))"
   ]
  },
  {
   "cell_type": "code",
   "execution_count": 6,
   "metadata": {
    "collapsed": false
   },
   "outputs": [
    {
     "name": "stdout",
     "output_type": "stream",
     "text": [
      "Creating Training data...\n",
      "0\n",
      "50000\n",
      "100000\n",
      "150000\n",
      "200000\n",
      "250000\n",
      "300000\n",
      "350000\n",
      "400000\n",
      "Done.\n"
     ]
    }
   ],
   "source": [
    "train_data = []\n",
    "print('Creating Training data...');\n",
    "for i, sentence1, sentence2 in zip(range(N), train_question_1, train_question_2):\n",
    "    if i % 50000 == 0:\n",
    "        print(i)\n",
    "        \n",
    "    vector1 = [map_index_vec[index] for index in sentence1]\n",
    "    vector2 = [map_index_vec[index] for index in sentence2]\n",
    "    mean_vec1 = np.mean(vector1, axis=0)\n",
    "    mean_vec2 = np.mean(vector2, axis=0)\n",
    "\n",
    "    train_data.append(np.concatenate((mean_vec1, mean_vec2)))\n",
    "print('Done.')"
   ]
  },
  {
   "cell_type": "code",
   "execution_count": 7,
   "metadata": {
    "collapsed": false
   },
   "outputs": [
    {
     "name": "stdout",
     "output_type": "stream",
     "text": [
      "Converting data to array...\n",
      "Done.\n"
     ]
    }
   ],
   "source": [
    "print('Converting data to array...')\n",
    "train_data = np.array(train_data)\n",
    "train_labels = np.array(train_labels)\n",
    "print('Done.')"
   ]
  },
  {
   "cell_type": "code",
   "execution_count": 8,
   "metadata": {
    "collapsed": false
   },
   "outputs": [
    {
     "name": "stdout",
     "output_type": "stream",
     "text": [
      "Building model...\n",
      "(None, 100)\n",
      "(None, 1)\n",
      "Done.\n"
     ]
    }
   ],
   "source": [
    "print('Building model...')\n",
    "model = Sequential()\n",
    "model.add(Dense(1, activation='sigmoid', input_shape=(2 * dim,)))\n",
    "print(model.input_shape)\n",
    "print(model.output_shape)\n",
    "sgd = SGD(lr=0.01, decay=1e-4, momentum=0.9, nesterov=True)\n",
    "model.compile(loss='binary_crossentropy',\n",
    "              optimizer=sgd,\n",
    "              metrics=['accuracy'])\n",
    "\n",
    "tb = TensorBoard(log_dir=log_dir, histogram_freq=0, write_graph=True, write_images=False)\n",
    "checkpointer = ModelCheckpoint(filepath=weights_dir, verbose=1, save_best_only=True)\n",
    "print('Done.')"
   ]
  },
  {
   "cell_type": "code",
   "execution_count": 9,
   "metadata": {
    "collapsed": false
   },
   "outputs": [
    {
     "data": {
      "text/plain": [
       "(404286, 100)"
      ]
     },
     "execution_count": 9,
     "metadata": {},
     "output_type": "execute_result"
    }
   ],
   "source": [
    "train_data.shape"
   ]
  },
  {
   "cell_type": "code",
   "execution_count": 10,
   "metadata": {
    "collapsed": false
   },
   "outputs": [
    {
     "name": "stdout",
     "output_type": "stream",
     "text": [
      "Training...\n",
      "Train on 323428 samples, validate on 80858 samples\n",
      "Epoch 1/100\n",
      "320000/323428 [============================>.] - ETA: 0s - loss: 0.6472 - acc: 0.6314Epoch 00000: val_loss improved from inf to 0.63463, saving model to ./weights_1/weights.hdf5\n",
      "323428/323428 [==============================] - 5s - loss: 0.6471 - acc: 0.6315 - val_loss: 0.6346 - val_acc: 0.6480\n",
      "Epoch 2/100\n",
      "322816/323428 [============================>.] - ETA: 0s - loss: 0.6380 - acc: 0.6400Epoch 00001: val_loss improved from 0.63463 to 0.63160, saving model to ./weights_1/weights.hdf5\n",
      "323428/323428 [==============================] - 5s - loss: 0.6380 - acc: 0.6400 - val_loss: 0.6316 - val_acc: 0.6518\n",
      "Epoch 3/100\n",
      "322048/323428 [============================>.] - ETA: 0s - loss: 0.6362 - acc: 0.6437Epoch 00002: val_loss improved from 0.63160 to 0.63039, saving model to ./weights_1/weights.hdf5\n",
      "323428/323428 [==============================] - 5s - loss: 0.6362 - acc: 0.6437 - val_loss: 0.6304 - val_acc: 0.6529\n",
      "Epoch 4/100\n",
      "323072/323428 [============================>.] - ETA: 0s - loss: 0.6355 - acc: 0.6456Epoch 00003: val_loss improved from 0.63039 to 0.63030, saving model to ./weights_1/weights.hdf5\n",
      "323428/323428 [==============================] - 4s - loss: 0.6355 - acc: 0.6457 - val_loss: 0.6303 - val_acc: 0.6500\n",
      "Epoch 5/100\n",
      "321792/323428 [============================>.] - ETA: 0s - loss: 0.6352 - acc: 0.6463Epoch 00004: val_loss improved from 0.63030 to 0.62950, saving model to ./weights_1/weights.hdf5\n",
      "323428/323428 [==============================] - 4s - loss: 0.6352 - acc: 0.6463 - val_loss: 0.6295 - val_acc: 0.6552\n",
      "Epoch 6/100\n",
      "319616/323428 [============================>.] - ETA: 0s - loss: 0.6350 - acc: 0.6476Epoch 00005: val_loss improved from 0.62950 to 0.62916, saving model to ./weights_1/weights.hdf5\n",
      "323428/323428 [==============================] - 3s - loss: 0.6349 - acc: 0.6476 - val_loss: 0.6292 - val_acc: 0.6549\n",
      "Epoch 7/100\n",
      "318976/323428 [============================>.] - ETA: 0s - loss: 0.6348 - acc: 0.6478Epoch 00006: val_loss did not improve\n",
      "323428/323428 [==============================] - 4s - loss: 0.6347 - acc: 0.6478 - val_loss: 0.6295 - val_acc: 0.6556\n",
      "Epoch 8/100\n",
      "323200/323428 [============================>.] - ETA: 0s - loss: 0.6347 - acc: 0.6487Epoch 00007: val_loss improved from 0.62916 to 0.62893, saving model to ./weights_1/weights.hdf5\n",
      "323428/323428 [==============================] - 3s - loss: 0.6347 - acc: 0.6487 - val_loss: 0.6289 - val_acc: 0.6553\n",
      "Epoch 9/100\n",
      "320256/323428 [============================>.] - ETA: 0s - loss: 0.6347 - acc: 0.6483Epoch 00008: val_loss did not improve\n",
      "323428/323428 [==============================] - 3s - loss: 0.6346 - acc: 0.6485 - val_loss: 0.6304 - val_acc: 0.6511\n",
      "Epoch 10/100\n",
      "323200/323428 [============================>.] - ETA: 0s - loss: 0.6346 - acc: 0.6489Epoch 00009: val_loss improved from 0.62893 to 0.62880, saving model to ./weights_1/weights.hdf5\n",
      "323428/323428 [==============================] - 3s - loss: 0.6346 - acc: 0.6489 - val_loss: 0.6288 - val_acc: 0.6543\n",
      "Epoch 11/100\n",
      "321792/323428 [============================>.] - ETA: 0s - loss: 0.6344 - acc: 0.6491Epoch 00010: val_loss did not improve\n",
      "323428/323428 [==============================] - 5s - loss: 0.6345 - acc: 0.6491 - val_loss: 0.6299 - val_acc: 0.6568\n",
      "Epoch 12/100\n",
      "323328/323428 [============================>.] - ETA: 0s - loss: 0.6344 - acc: 0.6490Epoch 00011: val_loss improved from 0.62880 to 0.62874, saving model to ./weights_1/weights.hdf5\n",
      "323428/323428 [==============================] - 5s - loss: 0.6344 - acc: 0.6490 - val_loss: 0.6287 - val_acc: 0.6555\n",
      "Epoch 13/100\n",
      "320640/323428 [============================>.] - ETA: 0s - loss: 0.6345 - acc: 0.6496Epoch 00012: val_loss did not improve\n",
      "323428/323428 [==============================] - 4s - loss: 0.6344 - acc: 0.6496 - val_loss: 0.6288 - val_acc: 0.6560\n",
      "Epoch 14/100\n",
      "320256/323428 [============================>.] - ETA: 0s - loss: 0.6343 - acc: 0.6496Epoch 00013: val_loss did not improve\n",
      "323428/323428 [==============================] - 5s - loss: 0.6344 - acc: 0.6495 - val_loss: 0.6292 - val_acc: 0.6567\n",
      "Epoch 15/100\n",
      "321792/323428 [============================>.] - ETA: 0s - loss: 0.6343 - acc: 0.6495Epoch 00014: val_loss did not improve\n",
      "323428/323428 [==============================] - 5s - loss: 0.6343 - acc: 0.6496 - val_loss: 0.6289 - val_acc: 0.6562\n",
      "Epoch 16/100\n",
      "320256/323428 [============================>.] - ETA: 0s - loss: 0.6342 - acc: 0.6497Epoch 00015: val_loss did not improve\n",
      "323428/323428 [==============================] - 4s - loss: 0.6343 - acc: 0.6497 - val_loss: 0.6294 - val_acc: 0.6572\n",
      "Epoch 17/100\n",
      "322048/323428 [============================>.] - ETA: 0s - loss: 0.6343 - acc: 0.6494Epoch 00016: val_loss did not improve\n",
      "323428/323428 [==============================] - 4s - loss: 0.6343 - acc: 0.6494 - val_loss: 0.6288 - val_acc: 0.6564\n",
      "Epoch 18/100\n",
      "321024/323428 [============================>.] - ETA: 0s - loss: 0.6343 - acc: 0.6500Epoch 00017: val_loss did not improve\n",
      "323428/323428 [==============================] - 4s - loss: 0.6343 - acc: 0.6500 - val_loss: 0.6288 - val_acc: 0.6563\n",
      "Epoch 19/100\n",
      "321920/323428 [============================>.] - ETA: 0s - loss: 0.6342 - acc: 0.6500Epoch 00018: val_loss did not improve\n",
      "323428/323428 [==============================] - 4s - loss: 0.6342 - acc: 0.6499 - val_loss: 0.6299 - val_acc: 0.6575\n",
      "Epoch 20/100\n",
      "320896/323428 [============================>.] - ETA: 0s - loss: 0.6343 - acc: 0.6500Epoch 00019: val_loss did not improve\n",
      "323428/323428 [==============================] - 4s - loss: 0.6342 - acc: 0.6500 - val_loss: 0.6292 - val_acc: 0.6569\n",
      "Epoch 21/100\n",
      "319744/323428 [============================>.] - ETA: 0s - loss: 0.6342 - acc: 0.6502Epoch 00020: val_loss did not improve\n",
      "323428/323428 [==============================] - 4s - loss: 0.6342 - acc: 0.6502 - val_loss: 0.6289 - val_acc: 0.6568\n",
      "Epoch 22/100\n",
      "318464/323428 [============================>.] - ETA: 0s - loss: 0.6341 - acc: 0.6504Epoch 00021: val_loss did not improve\n",
      "323428/323428 [==============================] - 4s - loss: 0.6342 - acc: 0.6504 - val_loss: 0.6288 - val_acc: 0.6564\n",
      "Epoch 23/100\n",
      "321152/323428 [============================>.] - ETA: 0s - loss: 0.6342 - acc: 0.6500Epoch 00022: val_loss improved from 0.62874 to 0.62850, saving model to ./weights_1/weights.hdf5\n",
      "323428/323428 [==============================] - 4s - loss: 0.6342 - acc: 0.6500 - val_loss: 0.6285 - val_acc: 0.6555\n",
      "Epoch 24/100\n",
      "321408/323428 [============================>.] - ETA: 0s - loss: 0.6341 - acc: 0.6506Epoch 00023: val_loss did not improve\n",
      "323428/323428 [==============================] - 4s - loss: 0.6342 - acc: 0.6505 - val_loss: 0.6287 - val_acc: 0.6565\n",
      "Epoch 25/100\n",
      "320640/323428 [============================>.] - ETA: 0s - loss: 0.6343 - acc: 0.6502Epoch 00024: val_loss did not improve\n",
      "323428/323428 [==============================] - 4s - loss: 0.6342 - acc: 0.6504 - val_loss: 0.6286 - val_acc: 0.6568\n",
      "Epoch 26/100\n",
      "321408/323428 [============================>.] - ETA: 0s - loss: 0.6341 - acc: 0.6501Epoch 00025: val_loss did not improve\n",
      "323428/323428 [==============================] - 3s - loss: 0.6341 - acc: 0.6501 - val_loss: 0.6286 - val_acc: 0.6568\n",
      "Epoch 27/100\n",
      "320640/323428 [============================>.] - ETA: 0s - loss: 0.6340 - acc: 0.6501Epoch 00026: val_loss did not improve\n",
      "323428/323428 [==============================] - 3s - loss: 0.6341 - acc: 0.6501 - val_loss: 0.6287 - val_acc: 0.6566\n",
      "Epoch 28/100\n",
      "320512/323428 [============================>.] - ETA: 0s - loss: 0.6342 - acc: 0.6499Epoch 00027: val_loss did not improve\n",
      "323428/323428 [==============================] - 3s - loss: 0.6341 - acc: 0.6500 - val_loss: 0.6285 - val_acc: 0.6567\n",
      "Epoch 29/100\n",
      "320128/323428 [============================>.] - ETA: 0s - loss: 0.6340 - acc: 0.6506Epoch 00028: val_loss did not improve\n",
      "323428/323428 [==============================] - 3s - loss: 0.6341 - acc: 0.6506 - val_loss: 0.6296 - val_acc: 0.6573\n",
      "Epoch 30/100\n",
      "322688/323428 [============================>.] - ETA: 0s - loss: 0.6341 - acc: 0.6501Epoch 00029: val_loss did not improve\n",
      "323428/323428 [==============================] - 3s - loss: 0.6341 - acc: 0.6501 - val_loss: 0.6285 - val_acc: 0.6567\n",
      "Epoch 31/100\n",
      "322176/323428 [============================>.] - ETA: 0s - loss: 0.6341 - acc: 0.6506Epoch 00030: val_loss improved from 0.62850 to 0.62849, saving model to ./weights_1/weights.hdf5\n",
      "323428/323428 [==============================] - 4s - loss: 0.6341 - acc: 0.6506 - val_loss: 0.6285 - val_acc: 0.6566\n",
      "Epoch 32/100\n",
      "321152/323428 [============================>.] - ETA: 0s - loss: 0.6340 - acc: 0.6504Epoch 00031: val_loss improved from 0.62849 to 0.62842, saving model to ./weights_1/weights.hdf5\n",
      "323428/323428 [==============================] - 4s - loss: 0.6341 - acc: 0.6503 - val_loss: 0.6284 - val_acc: 0.6558\n",
      "Epoch 33/100\n",
      "319616/323428 [============================>.] - ETA: 0s - loss: 0.6340 - acc: 0.6504Epoch 00032: val_loss did not improve\n",
      "323428/323428 [==============================] - 4s - loss: 0.6340 - acc: 0.6503 - val_loss: 0.6287 - val_acc: 0.6566\n",
      "Epoch 34/100\n",
      "321152/323428 [============================>.] - ETA: 0s - loss: 0.6340 - acc: 0.6505Epoch 00033: val_loss did not improve\n",
      "323428/323428 [==============================] - 3s - loss: 0.6340 - acc: 0.6505 - val_loss: 0.6289 - val_acc: 0.6568\n",
      "Epoch 35/100\n",
      "320256/323428 [============================>.] - ETA: 0s - loss: 0.6341 - acc: 0.6506Epoch 00034: val_loss did not improve\n",
      "323428/323428 [==============================] - 4s - loss: 0.6341 - acc: 0.6506 - val_loss: 0.6286 - val_acc: 0.6569\n",
      "Epoch 36/100\n",
      "321024/323428 [============================>.] - ETA: 0s - loss: 0.6340 - acc: 0.6508Epoch 00035: val_loss did not improve\n",
      "323428/323428 [==============================] - 3s - loss: 0.6340 - acc: 0.6508 - val_loss: 0.6288 - val_acc: 0.6570\n",
      "Epoch 37/100\n",
      "319360/323428 [============================>.] - ETA: 0s - loss: 0.6339 - acc: 0.6505Epoch 00036: val_loss did not improve\n",
      "323428/323428 [==============================] - 3s - loss: 0.6340 - acc: 0.6505 - val_loss: 0.6291 - val_acc: 0.6570\n",
      "Epoch 38/100\n",
      "320128/323428 [============================>.] - ETA: 0s - loss: 0.6340 - acc: 0.6507Epoch 00037: val_loss did not improve\n",
      "323428/323428 [==============================] - 3s - loss: 0.6340 - acc: 0.6507 - val_loss: 0.6285 - val_acc: 0.6568\n",
      "Epoch 39/100\n",
      "318848/323428 [============================>.] - ETA: 0s - loss: 0.6340 - acc: 0.6508Epoch 00038: val_loss did not improve\n",
      "323428/323428 [==============================] - 3s - loss: 0.6340 - acc: 0.6508 - val_loss: 0.6291 - val_acc: 0.6572\n",
      "Epoch 40/100\n",
      "320128/323428 [============================>.] - ETA: 0s - loss: 0.6339 - acc: 0.6505Epoch 00039: val_loss improved from 0.62842 to 0.62842, saving model to ./weights_1/weights.hdf5\n",
      "323428/323428 [==============================] - 4s - loss: 0.6340 - acc: 0.6504 - val_loss: 0.6284 - val_acc: 0.6566\n",
      "Epoch 41/100\n",
      "320128/323428 [============================>.] - ETA: 0s - loss: 0.6340 - acc: 0.6506Epoch 00040: val_loss did not improve\n",
      "323428/323428 [==============================] - 3s - loss: 0.6340 - acc: 0.6505 - val_loss: 0.6287 - val_acc: 0.6568\n",
      "Epoch 42/100\n",
      "321792/323428 [============================>.] - ETA: 0s - loss: 0.6340 - acc: 0.6506Epoch 00041: val_loss did not improve\n",
      "323428/323428 [==============================] - 3s - loss: 0.6340 - acc: 0.6506 - val_loss: 0.6289 - val_acc: 0.6571\n",
      "Epoch 43/100\n",
      "320256/323428 [============================>.] - ETA: 0s - loss: 0.6340 - acc: 0.6508Epoch 00042: val_loss did not improve\n",
      "323428/323428 [==============================] - 4s - loss: 0.6340 - acc: 0.6508 - val_loss: 0.6287 - val_acc: 0.6569\n",
      "Epoch 44/100\n",
      "322560/323428 [============================>.] - ETA: 0s - loss: 0.6339 - acc: 0.6509Epoch 00043: val_loss did not improve\n",
      "323428/323428 [==============================] - 3s - loss: 0.6340 - acc: 0.6509 - val_loss: 0.6287 - val_acc: 0.6568\n",
      "Epoch 45/100\n",
      "321152/323428 [============================>.] - ETA: 0s - loss: 0.6340 - acc: 0.6505Epoch 00044: val_loss did not improve\n",
      "323428/323428 [==============================] - 4s - loss: 0.6340 - acc: 0.6506 - val_loss: 0.6288 - val_acc: 0.6571\n",
      "Epoch 46/100\n",
      "320512/323428 [============================>.] - ETA: 0s - loss: 0.6339 - acc: 0.6507Epoch 00045: val_loss did not improve\n",
      "323428/323428 [==============================] - 4s - loss: 0.6340 - acc: 0.6507 - val_loss: 0.6285 - val_acc: 0.6570\n",
      "Epoch 47/100\n",
      "318976/323428 [============================>.] - ETA: 0s - loss: 0.6339 - acc: 0.6511Epoch 00046: val_loss did not improve\n",
      "323428/323428 [==============================] - 3s - loss: 0.6339 - acc: 0.6508 - val_loss: 0.6291 - val_acc: 0.6573\n",
      "Epoch 48/100\n",
      "322432/323428 [============================>.] - ETA: 0s - loss: 0.6340 - acc: 0.6507Epoch 00047: val_loss improved from 0.62842 to 0.62840, saving model to ./weights_1/weights.hdf5\n",
      "323428/323428 [==============================] - 3s - loss: 0.6339 - acc: 0.6508 - val_loss: 0.6284 - val_acc: 0.6552\n",
      "Epoch 49/100\n",
      "322560/323428 [============================>.] - ETA: 0s - loss: 0.6339 - acc: 0.6507Epoch 00048: val_loss did not improve\n",
      "323428/323428 [==============================] - 3s - loss: 0.6339 - acc: 0.6507 - val_loss: 0.6287 - val_acc: 0.6568\n",
      "Epoch 50/100\n",
      "322688/323428 [============================>.] - ETA: 0s - loss: 0.6339 - acc: 0.6507Epoch 00049: val_loss did not improve\n",
      "323428/323428 [==============================] - 3s - loss: 0.6339 - acc: 0.6506 - val_loss: 0.6286 - val_acc: 0.6569\n",
      "Epoch 51/100\n",
      "322560/323428 [============================>.] - ETA: 0s - loss: 0.6339 - acc: 0.6506Epoch 00050: val_loss did not improve\n",
      "323428/323428 [==============================] - 3s - loss: 0.6339 - acc: 0.6506 - val_loss: 0.6292 - val_acc: 0.6572\n",
      "Epoch 52/100\n",
      "321152/323428 [============================>.] - ETA: 0s - loss: 0.6339 - acc: 0.6506Epoch 00051: val_loss did not improve\n",
      "323428/323428 [==============================] - 3s - loss: 0.6339 - acc: 0.6506 - val_loss: 0.6284 - val_acc: 0.6569\n",
      "Epoch 53/100\n",
      "322560/323428 [============================>.] - ETA: 0s - loss: 0.6339 - acc: 0.6505Epoch 00052: val_loss improved from 0.62840 to 0.62833, saving model to ./weights_1/weights.hdf5\n",
      "323428/323428 [==============================] - 3s - loss: 0.6339 - acc: 0.6505 - val_loss: 0.6283 - val_acc: 0.6566\n",
      "Epoch 54/100\n",
      "321152/323428 [============================>.] - ETA: 0s - loss: 0.6340 - acc: 0.6506Epoch 00053: val_loss did not improve\n",
      "323428/323428 [==============================] - 3s - loss: 0.6339 - acc: 0.6507 - val_loss: 0.6287 - val_acc: 0.6570\n",
      "Epoch 55/100\n",
      "319744/323428 [============================>.] - ETA: 0s - loss: 0.6339 - acc: 0.6506Epoch 00054: val_loss did not improve\n",
      "323428/323428 [==============================] - 3s - loss: 0.6339 - acc: 0.6506 - val_loss: 0.6288 - val_acc: 0.6572\n",
      "Epoch 56/100\n",
      "323200/323428 [============================>.] - ETA: 0s - loss: 0.6339 - acc: 0.6507Epoch 00055: val_loss improved from 0.62833 to 0.62830, saving model to ./weights_1/weights.hdf5\n",
      "323428/323428 [==============================] - 3s - loss: 0.6339 - acc: 0.6508 - val_loss: 0.6283 - val_acc: 0.6560\n",
      "Epoch 57/100\n",
      "322816/323428 [============================>.] - ETA: 0s - loss: 0.6339 - acc: 0.6506Epoch 00056: val_loss did not improve\n",
      "323428/323428 [==============================] - 3s - loss: 0.6339 - acc: 0.6506 - val_loss: 0.6285 - val_acc: 0.6568\n",
      "Epoch 58/100\n",
      "322304/323428 [============================>.] - ETA: 0s - loss: 0.6339 - acc: 0.6507Epoch 00057: val_loss did not improve\n",
      "323428/323428 [==============================] - 4s - loss: 0.6339 - acc: 0.6507 - val_loss: 0.6284 - val_acc: 0.6567\n",
      "Epoch 59/100\n",
      "322176/323428 [============================>.] - ETA: 0s - loss: 0.6339 - acc: 0.6509Epoch 00058: val_loss did not improve\n",
      "323428/323428 [==============================] - 4s - loss: 0.6339 - acc: 0.6509 - val_loss: 0.6291 - val_acc: 0.6573\n",
      "Epoch 60/100\n",
      "321280/323428 [============================>.] - ETA: 0s - loss: 0.6339 - acc: 0.6510Epoch 00059: val_loss did not improve\n",
      "323428/323428 [==============================] - 4s - loss: 0.6339 - acc: 0.6511 - val_loss: 0.6283 - val_acc: 0.6566\n",
      "Epoch 61/100\n",
      "320640/323428 [============================>.] - ETA: 0s - loss: 0.6339 - acc: 0.6504Epoch 00060: val_loss did not improve\n",
      "323428/323428 [==============================] - 4s - loss: 0.6339 - acc: 0.6504 - val_loss: 0.6286 - val_acc: 0.6570\n",
      "Epoch 62/100\n",
      "319616/323428 [============================>.] - ETA: 0s - loss: 0.6338 - acc: 0.6508Epoch 00061: val_loss did not improve\n",
      "323428/323428 [==============================] - 5s - loss: 0.6339 - acc: 0.6507 - val_loss: 0.6286 - val_acc: 0.6569\n",
      "Epoch 63/100\n",
      "323328/323428 [============================>.] - ETA: 0s - loss: 0.6339 - acc: 0.6506Epoch 00062: val_loss did not improve\n",
      "323428/323428 [==============================] - 5s - loss: 0.6339 - acc: 0.6506 - val_loss: 0.6284 - val_acc: 0.6569\n",
      "Epoch 64/100\n",
      "320896/323428 [============================>.] - ETA: 0s - loss: 0.6338 - acc: 0.6511Epoch 00063: val_loss did not improve\n",
      "323428/323428 [==============================] - 5s - loss: 0.6339 - acc: 0.6509 - val_loss: 0.6287 - val_acc: 0.6570\n",
      "Epoch 65/100\n",
      "323200/323428 [============================>.] - ETA: 0s - loss: 0.6339 - acc: 0.6511Epoch 00064: val_loss did not improve\n",
      "323428/323428 [==============================] - 5s - loss: 0.6339 - acc: 0.6511 - val_loss: 0.6284 - val_acc: 0.6572\n",
      "Epoch 66/100\n",
      "321280/323428 [============================>.] - ETA: 0s - loss: 0.6338 - acc: 0.6507Epoch 00065: val_loss did not improve\n",
      "323428/323428 [==============================] - 5s - loss: 0.6338 - acc: 0.6506 - val_loss: 0.6284 - val_acc: 0.6568\n",
      "Epoch 67/100\n",
      "322176/323428 [============================>.] - ETA: 0s - loss: 0.6339 - acc: 0.6506Epoch 00066: val_loss did not improve\n",
      "323428/323428 [==============================] - 5s - loss: 0.6339 - acc: 0.6506 - val_loss: 0.6289 - val_acc: 0.6573\n",
      "Epoch 68/100\n",
      "319616/323428 [============================>.] - ETA: 0s - loss: 0.6338 - acc: 0.6511Epoch 00067: val_loss did not improve\n",
      "323428/323428 [==============================] - 4s - loss: 0.6338 - acc: 0.6510 - val_loss: 0.6284 - val_acc: 0.6568\n",
      "Epoch 69/100\n",
      "322944/323428 [============================>.] - ETA: 0s - loss: 0.6339 - acc: 0.6508Epoch 00068: val_loss did not improve\n",
      "323428/323428 [==============================] - 4s - loss: 0.6339 - acc: 0.6508 - val_loss: 0.6285 - val_acc: 0.6569\n",
      "Epoch 70/100\n",
      "320640/323428 [============================>.] - ETA: 0s - loss: 0.6339 - acc: 0.6507Epoch 00069: val_loss did not improve\n",
      "323428/323428 [==============================] - 4s - loss: 0.6338 - acc: 0.6507 - val_loss: 0.6286 - val_acc: 0.6570\n",
      "Epoch 71/100\n",
      "322176/323428 [============================>.] - ETA: 0s - loss: 0.6339 - acc: 0.6507Epoch 00070: val_loss did not improve\n",
      "323428/323428 [==============================] - 4s - loss: 0.6338 - acc: 0.6507 - val_loss: 0.6287 - val_acc: 0.6570\n",
      "Epoch 72/100\n",
      "322560/323428 [============================>.] - ETA: 0s - loss: 0.6338 - acc: 0.6508Epoch 00071: val_loss improved from 0.62830 to 0.62827, saving model to ./weights_1/weights.hdf5\n",
      "323428/323428 [==============================] - 4s - loss: 0.6338 - acc: 0.6508 - val_loss: 0.6283 - val_acc: 0.6567\n",
      "Epoch 73/100\n",
      "320768/323428 [============================>.] - ETA: 0s - loss: 0.6338 - acc: 0.6506Epoch 00072: val_loss did not improve\n",
      "323428/323428 [==============================] - 4s - loss: 0.6338 - acc: 0.6506 - val_loss: 0.6283 - val_acc: 0.6568\n",
      "Epoch 74/100\n",
      "322816/323428 [============================>.] - ETA: 0s - loss: 0.6339 - acc: 0.6507Epoch 00073: val_loss did not improve\n",
      "323428/323428 [==============================] - 5s - loss: 0.6338 - acc: 0.6507 - val_loss: 0.6289 - val_acc: 0.6573\n",
      "Epoch 75/100\n",
      "323072/323428 [============================>.] - ETA: 0s - loss: 0.6338 - acc: 0.6508Epoch 00074: val_loss did not improve\n",
      "323428/323428 [==============================] - 4s - loss: 0.6338 - acc: 0.6507 - val_loss: 0.6285 - val_acc: 0.6570\n",
      "Epoch 76/100\n",
      "322944/323428 [============================>.] - ETA: 0s - loss: 0.6338 - acc: 0.6509Epoch 00075: val_loss did not improve\n",
      "323428/323428 [==============================] - 4s - loss: 0.6338 - acc: 0.6510 - val_loss: 0.6283 - val_acc: 0.6569\n",
      "Epoch 77/100\n",
      "319616/323428 [============================>.] - ETA: 0s - loss: 0.6338 - acc: 0.6509Epoch 00076: val_loss did not improve\n",
      "323428/323428 [==============================] - 4s - loss: 0.6338 - acc: 0.6509 - val_loss: 0.6283 - val_acc: 0.6568\n",
      "Epoch 78/100\n",
      "321920/323428 [============================>.] - ETA: 0s - loss: 0.6339 - acc: 0.6509Epoch 00077: val_loss did not improve\n",
      "323428/323428 [==============================] - 5s - loss: 0.6338 - acc: 0.6510 - val_loss: 0.6284 - val_acc: 0.6571\n",
      "Epoch 79/100\n",
      "321408/323428 [============================>.] - ETA: 0s - loss: 0.6338 - acc: 0.6506Epoch 00078: val_loss did not improve\n",
      "323428/323428 [==============================] - 4s - loss: 0.6338 - acc: 0.6506 - val_loss: 0.6284 - val_acc: 0.6571\n",
      "Epoch 80/100\n",
      "320128/323428 [============================>.] - ETA: 0s - loss: 0.6339 - acc: 0.6509Epoch 00079: val_loss did not improve\n",
      "323428/323428 [==============================] - 4s - loss: 0.6338 - acc: 0.6510 - val_loss: 0.6284 - val_acc: 0.6569\n",
      "Epoch 81/100\n",
      "323328/323428 [============================>.] - ETA: 0s - loss: 0.6338 - acc: 0.6508Epoch 00080: val_loss did not improve\n",
      "323428/323428 [==============================] - 5s - loss: 0.6338 - acc: 0.6507 - val_loss: 0.6284 - val_acc: 0.6570\n",
      "Epoch 82/100\n",
      "320512/323428 [============================>.] - ETA: 0s - loss: 0.6339 - acc: 0.6507Epoch 00081: val_loss did not improve\n",
      "323428/323428 [==============================] - 5s - loss: 0.6338 - acc: 0.6508 - val_loss: 0.6285 - val_acc: 0.6570\n",
      "Epoch 83/100\n",
      "320896/323428 [============================>.] - ETA: 0s - loss: 0.6337 - acc: 0.6510Epoch 00082: val_loss did not improve\n",
      "323428/323428 [==============================] - 5s - loss: 0.6338 - acc: 0.6509 - val_loss: 0.6287 - val_acc: 0.6572\n",
      "Epoch 84/100\n",
      "320512/323428 [============================>.] - ETA: 0s - loss: 0.6339 - acc: 0.6509Epoch 00083: val_loss did not improve\n",
      "323428/323428 [==============================] - 5s - loss: 0.6338 - acc: 0.6509 - val_loss: 0.6284 - val_acc: 0.6571\n",
      "Epoch 85/100\n",
      "321408/323428 [============================>.] - ETA: 0s - loss: 0.6338 - acc: 0.6509Epoch 00084: val_loss did not improve\n",
      "323428/323428 [==============================] - 5s - loss: 0.6338 - acc: 0.6509 - val_loss: 0.6283 - val_acc: 0.6569\n",
      "Epoch 86/100\n",
      "323200/323428 [============================>.] - ETA: 0s - loss: 0.6338 - acc: 0.6513Epoch 00085: val_loss did not improve\n",
      "323428/323428 [==============================] - 5s - loss: 0.6338 - acc: 0.6513 - val_loss: 0.6285 - val_acc: 0.6571\n",
      "Epoch 87/100\n",
      "322048/323428 [============================>.] - ETA: 0s - loss: 0.6338 - acc: 0.6507Epoch 00086: val_loss did not improve\n",
      "323428/323428 [==============================] - 5s - loss: 0.6338 - acc: 0.6507 - val_loss: 0.6283 - val_acc: 0.6571\n",
      "Epoch 88/100\n",
      "322816/323428 [============================>.] - ETA: 0s - loss: 0.6338 - acc: 0.6509Epoch 00087: val_loss improved from 0.62827 to 0.62824, saving model to ./weights_1/weights.hdf5\n",
      "323428/323428 [==============================] - 4s - loss: 0.6338 - acc: 0.6509 - val_loss: 0.6282 - val_acc: 0.6555\n",
      "Epoch 89/100\n",
      "323200/323428 [============================>.] - ETA: 0s - loss: 0.6338 - acc: 0.6507Epoch 00088: val_loss did not improve\n",
      "323428/323428 [==============================] - 4s - loss: 0.6338 - acc: 0.6506 - val_loss: 0.6284 - val_acc: 0.6570\n",
      "Epoch 90/100\n",
      "322432/323428 [============================>.] - ETA: 0s - loss: 0.6338 - acc: 0.6508Epoch 00089: val_loss did not improve\n",
      "323428/323428 [==============================] - 4s - loss: 0.6338 - acc: 0.6509 - val_loss: 0.6285 - val_acc: 0.6570\n",
      "Epoch 91/100\n",
      "321024/323428 [============================>.] - ETA: 0s - loss: 0.6338 - acc: 0.6509Epoch 00090: val_loss did not improve\n",
      "323428/323428 [==============================] - 5s - loss: 0.6338 - acc: 0.6510 - val_loss: 0.6283 - val_acc: 0.6569\n",
      "Epoch 92/100\n",
      "320512/323428 [============================>.] - ETA: 0s - loss: 0.6337 - acc: 0.6508Epoch 00091: val_loss did not improve\n",
      "323428/323428 [==============================] - 4s - loss: 0.6338 - acc: 0.6508 - val_loss: 0.6283 - val_acc: 0.6568\n",
      "Epoch 93/100\n",
      "322944/323428 [============================>.] - ETA: 0s - loss: 0.6338 - acc: 0.6508Epoch 00092: val_loss did not improve\n",
      "323428/323428 [==============================] - 4s - loss: 0.6338 - acc: 0.6509 - val_loss: 0.6284 - val_acc: 0.6571\n",
      "Epoch 94/100\n",
      "322432/323428 [============================>.] - ETA: 0s - loss: 0.6338 - acc: 0.6509Epoch 00093: val_loss did not improve\n",
      "323428/323428 [==============================] - 4s - loss: 0.6338 - acc: 0.6509 - val_loss: 0.6283 - val_acc: 0.6570\n",
      "Epoch 95/100\n",
      "321280/323428 [============================>.] - ETA: 0s - loss: 0.6338 - acc: 0.6508Epoch 00094: val_loss did not improve\n",
      "323428/323428 [==============================] - 4s - loss: 0.6338 - acc: 0.6508 - val_loss: 0.6289 - val_acc: 0.6575\n",
      "Epoch 96/100\n",
      "321792/323428 [============================>.] - ETA: 0s - loss: 0.6338 - acc: 0.6509Epoch 00095: val_loss did not improve\n",
      "323428/323428 [==============================] - 5s - loss: 0.6338 - acc: 0.6509 - val_loss: 0.6284 - val_acc: 0.6570\n",
      "Epoch 97/100\n",
      "321920/323428 [============================>.] - ETA: 0s - loss: 0.6337 - acc: 0.6509Epoch 00096: val_loss did not improve\n",
      "323428/323428 [==============================] - 5s - loss: 0.6338 - acc: 0.6508 - val_loss: 0.6287 - val_acc: 0.6575\n",
      "Epoch 98/100\n",
      "323328/323428 [============================>.] - ETA: 0s - loss: 0.6338 - acc: 0.6510Epoch 00097: val_loss did not improve\n",
      "323428/323428 [==============================] - 5s - loss: 0.6338 - acc: 0.6510 - val_loss: 0.6283 - val_acc: 0.6571\n",
      "Epoch 99/100\n",
      "322944/323428 [============================>.] - ETA: 0s - loss: 0.6338 - acc: 0.6510Epoch 00098: val_loss did not improve\n",
      "323428/323428 [==============================] - 5s - loss: 0.6337 - acc: 0.6510 - val_loss: 0.6288 - val_acc: 0.6574\n",
      "Epoch 100/100\n",
      "322688/323428 [============================>.] - ETA: 0s - loss: 0.6337 - acc: 0.6513Epoch 00099: val_loss did not improve\n",
      "323428/323428 [==============================] - 5s - loss: 0.6337 - acc: 0.6512 - val_loss: 0.6283 - val_acc: 0.6569\n",
      "Done.\n"
     ]
    }
   ],
   "source": [
    "print('Training...')\n",
    "model.fit(train_data, train_labels,\n",
    "          epochs=epochs,\n",
    "          validation_split=0.2,\n",
    "          batch_size=batch_size, callbacks=[tb, checkpointer])\n",
    "print('Done.')"
   ]
  },
  {
   "cell_type": "code",
   "execution_count": null,
   "metadata": {
    "collapsed": true
   },
   "outputs": [],
   "source": []
  }
 ],
 "metadata": {
  "kernelspec": {
   "display_name": "Python 2",
   "language": "python",
   "name": "python2"
  },
  "language_info": {
   "codemirror_mode": {
    "name": "ipython",
    "version": 2
   },
   "file_extension": ".py",
   "mimetype": "text/x-python",
   "name": "python",
   "nbconvert_exporter": "python",
   "pygments_lexer": "ipython2",
   "version": "2.7.9"
  }
 },
 "nbformat": 4,
 "nbformat_minor": 2
}
