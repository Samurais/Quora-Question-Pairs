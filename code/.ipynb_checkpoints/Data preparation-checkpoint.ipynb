{
 "cells": [
  {
   "cell_type": "code",
   "execution_count": 1,
   "metadata": {
    "collapsed": false
   },
   "outputs": [],
   "source": [
    "import pandas as pd\n",
    "pd.options.mode.chained_assignment = None\n",
    "import numpy as np\n",
    "import re\n",
    "import pickle\n",
    "import nltk\n",
    "\n",
    "from gensim.models import word2vec\n",
    "\n",
    "from sklearn.manifold import TSNE\n",
    "import matplotlib.pyplot as plt\n",
    "\n",
    "from sklearn.model_selection import train_test_split"
   ]
  },
  {
   "cell_type": "code",
   "execution_count": 3,
   "metadata": {
    "collapsed": false
   },
   "outputs": [],
   "source": [
    "data = pd.read_csv('../input/train.csv').sample(50000, random_state=23)\n",
    "STOP_WORDS = nltk.corpus.stopwords.words()"
   ]
  },
  {
   "cell_type": "code",
   "execution_count": 4,
   "metadata": {
    "collapsed": false
   },
   "outputs": [
    {
     "name": "stdout",
     "output_type": "stream",
     "text": [
      "Cleaning data...\n",
      "Cleaning col question1\n",
      "Cleaning col question2\n",
      "Data cleaning done...\n"
     ]
    }
   ],
   "source": [
    "def clean_sentence(val):\n",
    "    \"remove chars that are not letters or numbers, downcase, then remove stop words\"\n",
    "    regex = re.compile('([^\\s\\w]|_)+')\n",
    "    sentence = regex.sub('', val).lower()\n",
    "    sentence = sentence.split(\" \")\n",
    "\n",
    "    for word in list(sentence):\n",
    "        if word in STOP_WORDS:\n",
    "            sentence.remove(word)\n",
    "\n",
    "    sentence = \" \".join(sentence)\n",
    "    return sentence\n",
    "\n",
    "def clean_dataframe(data):\n",
    "    \"drop nans, then apply 'clean_sentence' function to question1 and 2\"\n",
    "    data = data.dropna(how=\"any\")\n",
    "\n",
    "    for col in ['question1', 'question2']:\n",
    "        print 'Cleaning col ' + col\n",
    "        data[col] = data[col].apply(clean_sentence)\n",
    "\n",
    "    return data\n",
    "\n",
    "print('Cleaning data...')\n",
    "data = clean_dataframe(data)\n",
    "print('Data cleaning done...')\n"
   ]
  },
  {
   "cell_type": "code",
   "execution_count": 5,
   "metadata": {
    "collapsed": false
   },
   "outputs": [
    {
     "data": {
      "text/html": [
       "<div>\n",
       "<table border=\"1\" class=\"dataframe\">\n",
       "  <thead>\n",
       "    <tr style=\"text-align: right;\">\n",
       "      <th></th>\n",
       "      <th>id</th>\n",
       "      <th>qid1</th>\n",
       "      <th>qid2</th>\n",
       "      <th>question1</th>\n",
       "      <th>question2</th>\n",
       "      <th>is_duplicate</th>\n",
       "    </tr>\n",
       "  </thead>\n",
       "  <tbody>\n",
       "    <tr>\n",
       "      <th>237921</th>\n",
       "      <td>237921</td>\n",
       "      <td>9732</td>\n",
       "      <td>79801</td>\n",
       "      <td>sex necessary relationship</td>\n",
       "      <td>sex important good relationship</td>\n",
       "      <td>1</td>\n",
       "    </tr>\n",
       "    <tr>\n",
       "      <th>181001</th>\n",
       "      <td>181001</td>\n",
       "      <td>277377</td>\n",
       "      <td>277378</td>\n",
       "      <td>inspiring start stories</td>\n",
       "      <td>inspirational stories ever</td>\n",
       "      <td>0</td>\n",
       "    </tr>\n",
       "    <tr>\n",
       "      <th>294691</th>\n",
       "      <td>294691</td>\n",
       "      <td>150129</td>\n",
       "      <td>93109</td>\n",
       "      <td>best way digital marketing</td>\n",
       "      <td>best unique ways digital marketing</td>\n",
       "      <td>1</td>\n",
       "    </tr>\n",
       "    <tr>\n",
       "      <th>104145</th>\n",
       "      <td>104145</td>\n",
       "      <td>171986</td>\n",
       "      <td>171987</td>\n",
       "      <td>best way grow facebook fan page</td>\n",
       "      <td>get followers facebook page</td>\n",
       "      <td>1</td>\n",
       "    </tr>\n",
       "    <tr>\n",
       "      <th>357893</th>\n",
       "      <td>357893</td>\n",
       "      <td>487310</td>\n",
       "      <td>487311</td>\n",
       "      <td>suppose host sends two tcp segments back back ...</td>\n",
       "      <td>suppose host sends two tcp segments back back ...</td>\n",
       "      <td>1</td>\n",
       "    </tr>\n",
       "  </tbody>\n",
       "</table>\n",
       "</div>"
      ],
      "text/plain": [
       "            id    qid1    qid2  \\\n",
       "237921  237921    9732   79801   \n",
       "181001  181001  277377  277378   \n",
       "294691  294691  150129   93109   \n",
       "104145  104145  171986  171987   \n",
       "357893  357893  487310  487311   \n",
       "\n",
       "                                                question1  \\\n",
       "237921                         sex necessary relationship   \n",
       "181001                            inspiring start stories   \n",
       "294691                         best way digital marketing   \n",
       "104145                    best way grow facebook fan page   \n",
       "357893  suppose host sends two tcp segments back back ...   \n",
       "\n",
       "                                                question2  is_duplicate  \n",
       "237921                    sex important good relationship             1  \n",
       "181001                         inspirational stories ever             0  \n",
       "294691                 best unique ways digital marketing             1  \n",
       "104145                        get followers facebook page             1  \n",
       "357893  suppose host sends two tcp segments back back ...             1  "
      ]
     },
     "execution_count": 5,
     "metadata": {},
     "output_type": "execute_result"
    }
   ],
   "source": [
    "data[:5]"
   ]
  },
  {
   "cell_type": "code",
   "execution_count": 6,
   "metadata": {
    "collapsed": true
   },
   "outputs": [],
   "source": [
    "def build_corpus(data):\n",
    "    \"Creates a list of lists containing words from each sentence\"\n",
    "    corpus = []\n",
    "    c = 1\n",
    "    for col in ['question1', 'question2']:\n",
    "        for sentence in data[col].iteritems():\n",
    "            word_list = sentence[1].split(\" \")\n",
    "            corpus.append(word_list)\n",
    "    return corpus"
   ]
  },
  {
   "cell_type": "code",
   "execution_count": null,
   "metadata": {
    "collapsed": false
   },
   "outputs": [],
   "source": []
  },
  {
   "cell_type": "code",
   "execution_count": 7,
   "metadata": {
    "collapsed": false
   },
   "outputs": [
    {
     "name": "stdout",
     "output_type": "stream",
     "text": [
      "Building corpus for word2vec...\n",
      "Corpus ready...\n",
      "Running word2vec...\n",
      "Word2Vec done...\n"
     ]
    }
   ],
   "source": [
    "print('Building corpus for word2vec...')\n",
    "corpus = build_corpus(data)\n",
    "print('Corpus ready...')\n",
    "\n",
    "print('Running word2vec...')\n",
    "model = word2vec.Word2Vec(corpus, size=100, window=20, workers=4)\n",
    "print('Word2Vec done...')\n"
   ]
  },
  {
   "cell_type": "code",
   "execution_count": 8,
   "metadata": {
    "collapsed": false
   },
   "outputs": [],
   "source": [
    "def build_training_data(data):\n",
    "    \"Creates a list of lists containing words from each sentence\"\n",
    "    corpus = []\n",
    "    for sentence1, sentence2 in zip(data['question1'].iteritems(), data['question2'].iteritems()):\n",
    "        pair = []\n",
    "        word_list1 = sentence1[1].split(\" \")\n",
    "        word_list2 = sentence2[1].split(\" \")\n",
    "        pair.append(word_list1)\n",
    "        pair.append(word_list2)\n",
    "        corpus.append(pair)\n",
    "    return corpus\n",
    "\n",
    "training_corpus = build_training_data(data)"
   ]
  },
  {
   "cell_type": "code",
   "execution_count": 9,
   "metadata": {
    "collapsed": false
   },
   "outputs": [
    {
     "data": {
      "text/plain": [
       "array(['sex necessary relationship', 'inspiring start stories',\n",
       "       'best way digital marketing', ...,\n",
       "       'cant uninstall cm security app mobile uninstall app pc',\n",
       "       'calculate load ups', 'examples taproot plants'], dtype=object)"
      ]
     },
     "execution_count": 9,
     "metadata": {},
     "output_type": "execute_result"
    }
   ],
   "source": [
    "data.question1.values"
   ]
  },
  {
   "cell_type": "code",
   "execution_count": 10,
   "metadata": {
    "collapsed": false
   },
   "outputs": [],
   "source": [
    "def add_col(data, model, col_name, new_col_name, length=0):\n",
    "    val = []\n",
    "    for sentence in data[col_name].values:\n",
    "        sentence_vec = [model.wv[word] for word in sentence.split(\" \") if word in model.vocab]\n",
    "        if length:\n",
    "            val.append(len(sentence_vec))\n",
    "        else:\n",
    "            val.append(np.array(sentence_vec))\n",
    "    \n",
    "    data[new_col_name] = np.array(val)\n",
    "    return data"
   ]
  },
  {
   "cell_type": "code",
   "execution_count": 11,
   "metadata": {
    "collapsed": false
   },
   "outputs": [],
   "source": [
    "data = add_col(data, model, 'question1', 'vec1') "
   ]
  },
  {
   "cell_type": "code",
   "execution_count": 12,
   "metadata": {
    "collapsed": false
   },
   "outputs": [],
   "source": [
    "data = add_col(data, model, 'question2', 'vec2') "
   ]
  },
  {
   "cell_type": "code",
   "execution_count": 13,
   "metadata": {
    "collapsed": false
   },
   "outputs": [],
   "source": [
    "data = add_col(data, model, 'question1', 'len1', length=1) \n",
    "data = add_col(data, model, 'question2', 'len2', length=1) "
   ]
  },
  {
   "cell_type": "code",
   "execution_count": 14,
   "metadata": {
    "collapsed": false
   },
   "outputs": [
    {
     "data": {
      "text/html": [
       "<div>\n",
       "<table border=\"1\" class=\"dataframe\">\n",
       "  <thead>\n",
       "    <tr style=\"text-align: right;\">\n",
       "      <th></th>\n",
       "      <th>id</th>\n",
       "      <th>qid1</th>\n",
       "      <th>qid2</th>\n",
       "      <th>question1</th>\n",
       "      <th>question2</th>\n",
       "      <th>is_duplicate</th>\n",
       "      <th>vec1</th>\n",
       "      <th>vec2</th>\n",
       "      <th>len1</th>\n",
       "      <th>len2</th>\n",
       "    </tr>\n",
       "  </thead>\n",
       "  <tbody>\n",
       "    <tr>\n",
       "      <th>237921</th>\n",
       "      <td>237921</td>\n",
       "      <td>9732</td>\n",
       "      <td>79801</td>\n",
       "      <td>sex necessary relationship</td>\n",
       "      <td>sex important good relationship</td>\n",
       "      <td>1</td>\n",
       "      <td>[[-0.703642, 0.0172268, -0.999159, -1.07369, 1...</td>\n",
       "      <td>[[-0.703642, 0.0172268, -0.999159, -1.07369, 1...</td>\n",
       "      <td>3</td>\n",
       "      <td>4</td>\n",
       "    </tr>\n",
       "    <tr>\n",
       "      <th>181001</th>\n",
       "      <td>181001</td>\n",
       "      <td>277377</td>\n",
       "      <td>277378</td>\n",
       "      <td>inspiring start stories</td>\n",
       "      <td>inspirational stories ever</td>\n",
       "      <td>0</td>\n",
       "      <td>[[0.0174034, 0.0591483, -0.168834, -0.172296, ...</td>\n",
       "      <td>[[-0.0313487, 0.073989, -0.304423, -0.321687, ...</td>\n",
       "      <td>3</td>\n",
       "      <td>3</td>\n",
       "    </tr>\n",
       "    <tr>\n",
       "      <th>294691</th>\n",
       "      <td>294691</td>\n",
       "      <td>150129</td>\n",
       "      <td>93109</td>\n",
       "      <td>best way digital marketing</td>\n",
       "      <td>best unique ways digital marketing</td>\n",
       "      <td>1</td>\n",
       "      <td>[[0.679356, -0.274707, -0.104487, -1.28028, -1...</td>\n",
       "      <td>[[0.679356, -0.274707, -0.104487, -1.28028, -1...</td>\n",
       "      <td>4</td>\n",
       "      <td>5</td>\n",
       "    </tr>\n",
       "    <tr>\n",
       "      <th>104145</th>\n",
       "      <td>104145</td>\n",
       "      <td>171986</td>\n",
       "      <td>171987</td>\n",
       "      <td>best way grow facebook fan page</td>\n",
       "      <td>get followers facebook page</td>\n",
       "      <td>1</td>\n",
       "      <td>[[0.679356, -0.274707, -0.104487, -1.28028, -1...</td>\n",
       "      <td>[[0.332248, 0.943302, 0.209303, -0.0485773, 1....</td>\n",
       "      <td>6</td>\n",
       "      <td>4</td>\n",
       "    </tr>\n",
       "    <tr>\n",
       "      <th>357893</th>\n",
       "      <td>357893</td>\n",
       "      <td>487310</td>\n",
       "      <td>487311</td>\n",
       "      <td>suppose host sends two tcp segments back back ...</td>\n",
       "      <td>suppose host sends two tcp segments back back ...</td>\n",
       "      <td>1</td>\n",
       "      <td>[[-0.0194233, 0.104621, -0.211908, -0.235154, ...</td>\n",
       "      <td>[[-0.0194233, 0.104621, -0.211908, -0.235154, ...</td>\n",
       "      <td>19</td>\n",
       "      <td>19</td>\n",
       "    </tr>\n",
       "  </tbody>\n",
       "</table>\n",
       "</div>"
      ],
      "text/plain": [
       "            id    qid1    qid2  \\\n",
       "237921  237921    9732   79801   \n",
       "181001  181001  277377  277378   \n",
       "294691  294691  150129   93109   \n",
       "104145  104145  171986  171987   \n",
       "357893  357893  487310  487311   \n",
       "\n",
       "                                                question1  \\\n",
       "237921                         sex necessary relationship   \n",
       "181001                            inspiring start stories   \n",
       "294691                         best way digital marketing   \n",
       "104145                    best way grow facebook fan page   \n",
       "357893  suppose host sends two tcp segments back back ...   \n",
       "\n",
       "                                                question2  is_duplicate  \\\n",
       "237921                    sex important good relationship             1   \n",
       "181001                         inspirational stories ever             0   \n",
       "294691                 best unique ways digital marketing             1   \n",
       "104145                        get followers facebook page             1   \n",
       "357893  suppose host sends two tcp segments back back ...             1   \n",
       "\n",
       "                                                     vec1  \\\n",
       "237921  [[-0.703642, 0.0172268, -0.999159, -1.07369, 1...   \n",
       "181001  [[0.0174034, 0.0591483, -0.168834, -0.172296, ...   \n",
       "294691  [[0.679356, -0.274707, -0.104487, -1.28028, -1...   \n",
       "104145  [[0.679356, -0.274707, -0.104487, -1.28028, -1...   \n",
       "357893  [[-0.0194233, 0.104621, -0.211908, -0.235154, ...   \n",
       "\n",
       "                                                     vec2  len1  len2  \n",
       "237921  [[-0.703642, 0.0172268, -0.999159, -1.07369, 1...     3     4  \n",
       "181001  [[-0.0313487, 0.073989, -0.304423, -0.321687, ...     3     3  \n",
       "294691  [[0.679356, -0.274707, -0.104487, -1.28028, -1...     4     5  \n",
       "104145  [[0.332248, 0.943302, 0.209303, -0.0485773, 1....     6     4  \n",
       "357893  [[-0.0194233, 0.104621, -0.211908, -0.235154, ...    19    19  "
      ]
     },
     "execution_count": 14,
     "metadata": {},
     "output_type": "execute_result"
    }
   ],
   "source": [
    "data[:5]"
   ]
  },
  {
   "cell_type": "code",
   "execution_count": 15,
   "metadata": {
    "collapsed": false
   },
   "outputs": [],
   "source": [
    "vec1 = data.vec1.values\n",
    "vec2 = data.vec2.values\n",
    "labels = data.is_duplicate.values"
   ]
  },
  {
   "cell_type": "code",
   "execution_count": 168,
   "metadata": {
    "collapsed": true
   },
   "outputs": [],
   "source": [
    "class SimpleDataIterator():\n",
    "    def __init__(self, df):\n",
    "        self.df = df\n",
    "        self.size = len(self.df)\n",
    "        self.epochs = 0\n",
    "        self.shuffle()\n",
    "\n",
    "    def shuffle(self):\n",
    "        self.df = self.df.sample(frac=1).reset_index(drop=True)\n",
    "        self.cursor = 0\n",
    "\n",
    "    def next_batch(self, n):\n",
    "        if self.cursor+n-1 > self.size:\n",
    "            self.epochs += 1\n",
    "            self.shuffle()\n",
    "        res = self.df.ix[self.cursor:self.cursor+n-1]\n",
    "        self.cursor += n\n",
    "        return res['vec1'], res['vec2'], res['is_duplicate']"
   ]
  },
  {
   "cell_type": "code",
   "execution_count": 169,
   "metadata": {
    "collapsed": true
   },
   "outputs": [],
   "source": [
    "it = SimpleDataIterator(data)"
   ]
  },
  {
   "cell_type": "code",
   "execution_count": 170,
   "metadata": {
    "collapsed": false
   },
   "outputs": [],
   "source": [
    "d = it.next_batch(3)"
   ]
  },
  {
   "cell_type": "code",
   "execution_count": 173,
   "metadata": {
    "collapsed": false
   },
   "outputs": [
    {
     "name": "stdout",
     "output_type": "stream",
     "text": [
      "0    [[0.0405326, 0.257707, -0.410567, -0.326391, -...\n",
      "1    [[0.341673, 0.422072, 0.00380491, -0.0532508, ...\n",
      "2    [[0.315736, 0.215481, 0.130308, -0.117091, 0.2...\n",
      "Name: vec1, dtype: object\n"
     ]
    }
   ],
   "source": [
    "print(d[0])"
   ]
  },
  {
   "cell_type": "code",
   "execution_count": 178,
   "metadata": {
    "collapsed": true
   },
   "outputs": [],
   "source": [
    "class PaddedDataIterator(SimpleDataIterator):\n",
    "    def next_batch(self, n):\n",
    "        if self.cursor+n > self.size:\n",
    "            self.epochs += 1\n",
    "            self.shuffle()\n",
    "        res = self.df.ix[self.cursor:self.cursor+n-1]\n",
    "        self.cursor += n\n",
    "\n",
    "        # Pad sequences with 0s so they are all the same length\n",
    "        maxlen1 = max(res['len1'])\n",
    "        maxlen2 = max(res['len2'])\n",
    "        maxlen = max(maxlen1, maxlen2)\n",
    "        x = np.zeros([n, maxlen], dtype=np.int32)\n",
    "#         for i, x_i in enumerate(x):\n",
    "#             x_i[:res['length'].values[i]] = res['as_numbers'].values[i]\n",
    "\n",
    "#         return x, res['gender']*3 + res['age_bracket'], res['length']"
   ]
  },
  {
   "cell_type": "code",
   "execution_count": 16,
   "metadata": {
    "collapsed": false
   },
   "outputs": [],
   "source": [
    "with open('column1_vec_representations.pkl', 'wb') as output:\n",
    "    pickle.dump(vec1, output, pickle.HIGHEST_PROTOCOL)\n",
    "\n",
    "with open('column2_vec_representations.pkl', 'wb') as output:\n",
    "    pickle.dump(vec2, output, pickle.HIGHEST_PROTOCOL)\n",
    "    \n",
    "with open('labels.pkl', 'wb') as output:\n",
    "    pickle.dump(labels, output, pickle.HIGHEST_PROTOCOL)\n",
    "    "
   ]
  },
  {
   "cell_type": "code",
   "execution_count": null,
   "metadata": {
    "collapsed": true
   },
   "outputs": [],
   "source": [
    "data.to_csv('../input/train_preprocessed', sep=',')"
   ]
  },
  {
   "cell_type": "code",
   "execution_count": 17,
   "metadata": {
    "collapsed": true
   },
   "outputs": [],
   "source": [
    "model.save('word2vec_model.model')"
   ]
  },
  {
   "cell_type": "code",
   "execution_count": 18,
   "metadata": {
    "collapsed": true
   },
   "outputs": [],
   "source": [
    "a = word2vec.Word2Vec.load('word2vec_model.model')"
   ]
  },
  {
   "cell_type": "code",
   "execution_count": 19,
   "metadata": {
    "collapsed": false
   },
   "outputs": [
    {
     "data": {
      "text/plain": [
       "array([-1.72673047,  1.97488725, -0.73923886, -0.70534426,  2.37984324,\n",
       "        0.4549852 , -1.58750951, -0.71555549,  1.8154124 , -0.36023772,\n",
       "        3.04060483, -1.8609041 , -0.99346739,  0.65570825,  0.38605696,\n",
       "       -0.42184335,  1.56381726,  0.92177492, -1.6276325 , -0.38147801,\n",
       "       -1.3439889 ,  1.12840378,  1.30797195,  1.71170878,  0.23091172,\n",
       "       -0.54669994,  0.69720364, -0.4015339 ,  1.56002724, -0.23599894,\n",
       "        1.50938451, -1.61150014,  1.2631675 ,  0.15949842,  1.0134598 ,\n",
       "       -1.02654815, -2.31452346, -0.6969772 , -1.24678707,  2.37837386,\n",
       "       -1.92408228,  1.33331895, -1.91136456,  0.13270813, -0.40521616,\n",
       "       -0.33205706,  0.59571409, -0.93542624,  0.34086499, -0.16417426,\n",
       "       -0.13299473, -1.73086333,  0.05750199,  0.41896284, -1.44527817,\n",
       "       -0.81394243,  1.24727678, -1.08212066,  1.58733022, -1.39493787,\n",
       "        0.42367527, -1.25193429, -0.61892807,  4.32673168,  0.80436039,\n",
       "       -0.58575404, -1.12379098,  1.18451834, -0.73776513, -1.56727123,\n",
       "        0.42936656, -1.21599817,  1.50718498,  0.12364725, -1.67975008,\n",
       "       -0.29352295, -2.35833287,  1.26713586,  2.75410271,  0.1753433 ,\n",
       "       -0.71561539, -0.49468562,  1.38672149,  2.19981432, -1.92619419,\n",
       "        0.1295083 , -0.82830971, -0.43669173, -0.65038329,  1.94734764,\n",
       "       -3.6915524 ,  1.85635114, -1.27268255,  1.77290726,  1.13873827,\n",
       "       -1.13639295, -0.45257369,  0.19516207,  0.11121688, -1.22958386], dtype=float32)"
      ]
     },
     "execution_count": 19,
     "metadata": {},
     "output_type": "execute_result"
    }
   ],
   "source": [
    "a['trump']"
   ]
  },
  {
   "cell_type": "code",
   "execution_count": null,
   "metadata": {
    "collapsed": true
   },
   "outputs": [],
   "source": []
  }
 ],
 "metadata": {
  "kernelspec": {
   "display_name": "Python 2",
   "language": "python",
   "name": "python2"
  },
  "language_info": {
   "codemirror_mode": {
    "name": "ipython",
    "version": 2
   },
   "file_extension": ".py",
   "mimetype": "text/x-python",
   "name": "python",
   "nbconvert_exporter": "python",
   "pygments_lexer": "ipython2",
   "version": "2.7.9"
  }
 },
 "nbformat": 4,
 "nbformat_minor": 2
}
